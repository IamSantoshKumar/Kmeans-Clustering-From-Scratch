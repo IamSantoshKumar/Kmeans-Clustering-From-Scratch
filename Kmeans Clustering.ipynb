{
 "cells": [
  {
   "cell_type": "code",
   "execution_count": 32,
   "id": "36d08499",
   "metadata": {},
   "outputs": [],
   "source": [
    "import random\n",
    "import numpy as np\n",
    "import pandas as pd\n",
    "from sklearn.datasets import make_blobs\n",
    "from sklearn.preprocessing import StandardScaler\n",
    "import matplotlib.pyplot as plt"
   ]
  },
  {
   "cell_type": "code",
   "execution_count": 126,
   "id": "080acdda",
   "metadata": {},
   "outputs": [
    {
     "data": {
      "text/html": [
       "<div>\n",
       "<style scoped>\n",
       "    .dataframe tbody tr th:only-of-type {\n",
       "        vertical-align: middle;\n",
       "    }\n",
       "\n",
       "    .dataframe tbody tr th {\n",
       "        vertical-align: top;\n",
       "    }\n",
       "\n",
       "    .dataframe thead th {\n",
       "        text-align: right;\n",
       "    }\n",
       "</style>\n",
       "<table border=\"1\" class=\"dataframe\">\n",
       "  <thead>\n",
       "    <tr style=\"text-align: right;\">\n",
       "      <th></th>\n",
       "      <th>var1</th>\n",
       "      <th>var2</th>\n",
       "    </tr>\n",
       "  </thead>\n",
       "  <tbody>\n",
       "    <tr>\n",
       "      <th>0</th>\n",
       "      <td>2.204387</td>\n",
       "      <td>1.560857</td>\n",
       "    </tr>\n",
       "    <tr>\n",
       "      <th>1</th>\n",
       "      <td>-1.133740</td>\n",
       "      <td>2.684673</td>\n",
       "    </tr>\n",
       "    <tr>\n",
       "      <th>2</th>\n",
       "      <td>1.064983</td>\n",
       "      <td>4.102897</td>\n",
       "    </tr>\n",
       "    <tr>\n",
       "      <th>3</th>\n",
       "      <td>-2.376038</td>\n",
       "      <td>7.324207</td>\n",
       "    </tr>\n",
       "    <tr>\n",
       "      <th>4</th>\n",
       "      <td>1.682890</td>\n",
       "      <td>0.484444</td>\n",
       "    </tr>\n",
       "  </tbody>\n",
       "</table>\n",
       "</div>"
      ],
      "text/plain": [
       "       var1      var2\n",
       "0  2.204387  1.560857\n",
       "1 -1.133740  2.684673\n",
       "2  1.064983  4.102897\n",
       "3 -2.376038  7.324207\n",
       "4  1.682890  0.484444"
      ]
     },
     "execution_count": 126,
     "metadata": {},
     "output_type": "execute_result"
    }
   ],
   "source": [
    "dataset, _ = make_blobs(n_samples=200,\n",
    "                        n_features=2,\n",
    "                        centers=4,\n",
    "                        cluster_std=0.5,\n",
    "                        random_state=0)\n",
    "\n",
    "df = pd.DataFrame(dataset, columns=['var1', 'var2'])\n",
    "\n",
    "df.head()"
   ]
  },
  {
   "cell_type": "code",
   "execution_count": 189,
   "id": "1a18a3aa",
   "metadata": {},
   "outputs": [
    {
     "data": {
      "text/plain": [
       "(200, 2)"
      ]
     },
     "execution_count": 189,
     "metadata": {},
     "output_type": "execute_result"
    }
   ],
   "source": [
    "df.shape"
   ]
  },
  {
   "cell_type": "code",
   "execution_count": 127,
   "id": "afcff61f",
   "metadata": {},
   "outputs": [],
   "source": [
    "scaler = StandardScaler()\n",
    "scaler.fit(df)\n",
    "X = scaler.transform(df)"
   ]
  },
  {
   "cell_type": "code",
   "execution_count": 186,
   "id": "58d4f429",
   "metadata": {},
   "outputs": [],
   "source": [
    "def euclidean_distance(point, centroid) -> float:\n",
    "    distance = np.sum((point - centroid)**2)\n",
    "    return distance"
   ]
  },
  {
   "cell_type": "code",
   "execution_count": 185,
   "id": "2b4c57fd",
   "metadata": {},
   "outputs": [],
   "source": [
    "def recalculate_centroids(cluster_points) -> float:\n",
    "    return np.mean(cluster_points, axis=0)"
   ]
  },
  {
   "cell_type": "code",
   "execution_count": 184,
   "id": "499bf5fb",
   "metadata": {},
   "outputs": [],
   "source": [
    "def closest_cluster(point, centroids) -> tuple:\n",
    "    min_dist = np.inf\n",
    "    for i, centroid in enumerate(centroids):\n",
    "        \n",
    "        distance = euclidean_distance(point, centroid)\n",
    "        \n",
    "        if distance < min_dist:\n",
    "            min_dist = distance\n",
    "            cluster_label = i\n",
    "            \n",
    "    return (min_dist, cluster_label)"
   ]
  },
  {
   "cell_type": "code",
   "execution_count": 179,
   "id": "229768d2",
   "metadata": {},
   "outputs": [],
   "source": [
    "def KMeans(\n",
    "           points: np.ndarray,\n",
    "           n_clusters: int=4, \n",
    "           max_iter: int =100, \n",
    "           random_state: int=123):\n",
    "    \n",
    "    \"\"\"\n",
    "    points : Data points needs to be clustered\n",
    "    n_clusters : No of clusters default: 4\n",
    "    max_iter: No of iterations need to iterate default: 100\n",
    "    random_state: set the seed for reproducibility default: 123\n",
    "    \"\"\"\n",
    "    \n",
    "    np.random.seed(random_state)\n",
    "    \n",
    "    n = points.shape[0]\n",
    "    \n",
    "    #calculate random centroid index\n",
    "    random_centroid_index = np.random.randint(0, n, n_clusters)\n",
    "    \n",
    "    centroids = points[random_centroid_index]\n",
    "    \n",
    "    points_to_cluster = [0] * n\n",
    "    \n",
    "    cluster_to_points = [[] for _ in range(n_clusters)]\n",
    "    \n",
    "    for _ in range(max_iter):\n",
    "         \n",
    "        old_centroids = centroids.copy()\n",
    "        \n",
    "        for idx in range(n):\n",
    "            #it calculates every data points to the nearest centroid\n",
    "            _ , label = closest_cluster(points[idx], centroids)\n",
    "            points_to_cluster[idx] = label\n",
    "            cluster_to_points[label].append(idx)\n",
    "        \n",
    "        #recalculate the centroids\n",
    "        for idx, cluster in enumerate(cluster_to_points):\n",
    "            centroids[idx] = recalculate_centroids(points[cluster])\n",
    "            \n",
    "        current_centroids = centroids.copy()\n",
    "        \n",
    "        is_converged: bool= True\n",
    "        \n",
    "        #criterion that controls the minimum change in cluster centers\n",
    "        if abs(np.sum(old_centroids - current_centroids))==0:\n",
    "            is_converged = False\n",
    "\n",
    "        if is_converged:\n",
    "            break\n",
    "            \n",
    "    return np.array(points_to_cluster), current_centroids\n",
    "        "
   ]
  },
  {
   "cell_type": "code",
   "execution_count": 180,
   "id": "77090088",
   "metadata": {},
   "outputs": [],
   "source": [
    "predicted, cluster_centers = KMeans(X)"
   ]
  },
  {
   "cell_type": "code",
   "execution_count": 181,
   "id": "8266962d",
   "metadata": {},
   "outputs": [],
   "source": [
    "colormap = np.array(['r','g','b','y'])"
   ]
  },
  {
   "cell_type": "code",
   "execution_count": 188,
   "id": "6037d23d",
   "metadata": {},
   "outputs": [
    {
     "data": {
      "image/png": "[encoded data removed]",
      "text/plain": [
       "<Figure size 640x480 with 1 Axes>"
      ]
     },
     "metadata": {},
     "output_type": "display_data"
    }
   ],
   "source": [
    "plt.scatter(X[:,0], X[:,1], c=colormap[predicted])\n",
    "plt.scatter(cluster_centers[0][0],cluster_centers[0][1], s=200, c='black', marker='*')\n",
    "plt.scatter(cluster_centers[1][0],cluster_centers[1][1], s=200, c='black', marker='*')\n",
    "plt.scatter(cluster_centers[2][0],cluster_centers[2][1], s=200, c='black', marker='*')\n",
    "plt.scatter(cluster_centers[3][0],cluster_centers[3][1], s=200, c='black', marker='*')\n",
    "plt.show()\n"
   ]
  }
 ],
 "metadata": {
  "kernelspec": {
   "display_name": "Python 3 (ipykernel)",
   "language": "python",
   "name": "python3"
  },
  "language_info": {
   "codemirror_mode": {
    "name": "ipython",
    "version": 3
   },
   "file_extension": ".py",
   "mimetype": "text/x-python",
   "name": "python",
   "nbconvert_exporter": "python",
   "pygments_lexer": "ipython3",
   "version": "3.8.15"
  }
 },
 "nbformat": 4,
 "nbformat_minor": 5
}
